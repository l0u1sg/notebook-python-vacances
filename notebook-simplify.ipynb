{
  "nbformat": 4,
  "nbformat_minor": 0,
  "metadata": {
    "colab": {
      "name": "Untitled1.ipynb",
      "provenance": [],
      "authorship_tag": "ABX9TyNBf6BespzMyC2Yz98wJ8hu",
      "include_colab_link": true
    },
    "kernelspec": {
      "name": "python3",
      "display_name": "Python 3"
    },
    "language_info": {
      "name": "python"
    }
  },
  "cells": [
    {
      "cell_type": "markdown",
      "metadata": {
        "id": "view-in-github",
        "colab_type": "text"
      },
      "source": [
        "<a href=\"https://colab.research.google.com/github/l0u1sg/notebook-python-vacances/blob/main/notebook-simplify.ipynb\" target=\"_parent\"><img src=\"https://colab.research.google.com/assets/colab-badge.svg\" alt=\"Open In Colab\"/></a>"
      ]
    },
    {
      "cell_type": "markdown",
      "source": [
        "# NSI1_Notebook_vacances\n",
        "*Notebook crée par Louis Gallet - hello@louisgallet.me*\n",
        "\n",
        "\n",
        "> Ceci est la version simplifié du notebook, retrouvez la version plus dur sur ce lien => https://louisg.ga/notebook1\n",
        "\n"
      ],
      "metadata": {
        "id": "QewmuRZ4nj0-"
      }
    },
    {
      "cell_type": "markdown",
      "source": [
        "## Découverte de l'activité \n",
        "\n",
        "C'est bientôt Noël, cette année, afin d'être moderne et de permettre une livraison des cadeaux fiable, le Père Noël à décidé de passer au numérique. Le logiciel du Père Noël est créé en Python, mais à cause d'une coupure de courant, le logiciel est corrompu. Bien sur aucune sauvegarde n'a été faite par les lutins. Vous êtes la seule personne qui puisse réparer le logiciel et sauver Noël. Bon courage à vous !\n",
        "<img src=\"https://cdn-icons-png.flaticon.com/512/1358/1358904.png\" width=\"200\" class='center' alt=\"bonnet père noel\">\n",
        "<img src=\"https://cdn-icons-png.flaticon.com/512/477/477171.png\" width=\"200\" class='center' alt=\"image luntin\">"
      ],
      "metadata": {
        "id": "Agc6iF1un0Vo"
      }
    },
    {
      "cell_type": "markdown",
      "source": [
        "## Détails du logiciel :\n",
        "Le logiciel du Père Noël est composé comme ceci :\n",
        "\n",
        "Tout d'abord, le père Noël accède au logiciel grâce à un mot de passe.\n",
        "\n",
        "Une fois authentifié, le Père Noël peut voir la liste des cadeaux dans une liste, il peut rajouter de nouveaux cadeaux, et même les faire correspondre à des enfants. De plus, le Père Noël accède aux noms et aux prénoms des lutins, peut en rajouter ou en supprimer.\n",
        "\n",
        "Le logiciel est fait principalement avec des fonctions et des variables, vous serez guidé au fur et à mesure des choses à réparer !"
      ],
      "metadata": {
        "id": "JJqkXM__n4cO"
      }
    },
    {
      "cell_type": "markdown",
      "source": [
        "## L'activité :"
      ],
      "metadata": {
        "id": "fTt9WBUJn-bg"
      }
    }
  ]
}