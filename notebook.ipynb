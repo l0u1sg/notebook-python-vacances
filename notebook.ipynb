{
  "nbformat": 4,
  "nbformat_minor": 0,
  "metadata": {
    "colab": {
      "name": "Untitled0.ipynb",
      "provenance": [],
      "authorship_tag": "ABX9TyM7MUMbO4uQ04Xc1vJPW3qL",
      "include_colab_link": true
    },
    "kernelspec": {
      "name": "python3",
      "display_name": "Python 3"
    },
    "language_info": {
      "name": "python"
    }
  },
  "cells": [
    {
      "cell_type": "markdown",
      "metadata": {
        "id": "view-in-github",
        "colab_type": "text"
      },
      "source": [
        "<a href=\"https://colab.research.google.com/github/l0u1sg/notebook-python-vacances/blob/main/notebook.ipynb\" target=\"_parent\"><img src=\"https://colab.research.google.com/assets/colab-badge.svg\" alt=\"Open In Colab\"/></a>"
      ]
    },
    {
      "cell_type": "markdown",
      "source": [
        "# Salut !\n",
        "# Prêt à réviser les petites bases de Python ? Et bah c'est parti !!! "
      ],
      "metadata": {
        "id": "xOH6KZEHQYU9"
      }
    },
    {
      "cell_type": "markdown",
      "source": [
        "Dans ce notebook on va voir les choses suivantes :\n",
        "\n",
        "1.   Print\n",
        "2.   Boucles\n",
        "3.   Listes\n",
        "4.   Petit exercice\n",
        "\n",
        "\n",
        "\n"
      ],
      "metadata": {
        "id": "3yIildqBQnW1"
      }
    },
    {
      "cell_type": "markdown",
      "source": [
        "## 1. Les bases & le print"
      ],
      "metadata": {
        "id": "7VbLMcC0Q4gg"
      }
    },
    {
      "cell_type": "code",
      "source": [
        "# Il est possible d'afficher des choses dans la console de Python, pour ce faire, il faut utiliser la méthode print()...\n",
        "print(\"Bienvenue dans ce notebook\") # Affiche le texte \"bienvenue dans ce notebook\"\n"
      ],
      "metadata": {
        "id": "G7BLSddzQ_SK"
      },
      "execution_count": null,
      "outputs": []
    },
    {
      "cell_type": "code",
      "source": [
        "# Mais on peut aller encore plus loin avec des variables \n",
        "intro = \"Coucou\" # On défini intro sur \"Coucou\"\n",
        "print(intro) # On va afficher le contenu de la variable intro"
      ],
      "metadata": {
        "id": "N1aNICbORdxa"
      },
      "execution_count": null,
      "outputs": []
    },
    {
      "cell_type": "code",
      "source": [
        "# On peut aller encore, encore plus loin avec une petite interaction avec l'utilisateur\n",
        "prenom = input(\"Quel est ton prénom ? \") # On demande à l'utilisateur son prénom\n",
        "print(prenom) # On affiche le prénom de l'utilisateur"
      ],
      "metadata": {
        "id": "OmT-0ooJRfMD"
      },
      "execution_count": null,
      "outputs": []
    }
  ]
}