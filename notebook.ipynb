{
  "nbformat": 4,
  "nbformat_minor": 0,
  "metadata": {
    "colab": {
      "name": "Untitled0.ipynb",
      "provenance": [],
      "authorship_tag": "ABX9TyMuhJESQZYo3yInJpGj81/g",
      "include_colab_link": true
    },
    "kernelspec": {
      "name": "python3",
      "display_name": "Python 3"
    },
    "language_info": {
      "name": "python"
    }
  },
  "cells": [
    {
      "cell_type": "markdown",
      "metadata": {
        "id": "view-in-github",
        "colab_type": "text"
      },
      "source": [
        "<a href=\"https://colab.research.google.com/github/l0u1sg/notebook-python-vacances/blob/main/notebook.ipynb\" target=\"_parent\"><img src=\"https://colab.research.google.com/assets/colab-badge.svg\" alt=\"Open In Colab\"/></a>"
      ]
    },
    {
      "cell_type": "markdown",
      "source": [
        "# NSI1_Notebook_vacances\n",
        "*Notebook crée par Louis Gallet - hello@louisgallet.me*"
      ],
      "metadata": {
        "id": "xOH6KZEHQYU9"
      }
    },
    {
      "cell_type": "markdown",
      "source": [
        "## Découverte de l'activité \n",
        "\n",
        "C'est bientôt Noël, cette année, afin d'être moderne et de permettre une livraison des cadeaux fiable, le Père Noël à décidé de passer au numérique. Le logiciel du Père Noël est créé en Python, mais à cause d'une coupure de courant, le logiciel est corrompu. Bien sur aucune sauvegarde n'a été faite par les lutins. Vous êtes la seule personne qui puisse réparer le logiciel et sauver Noël. Bon courage à vous !\n",
        "<img src=\"https://cdn-icons-png.flaticon.com/512/1358/1358904.png\" width=\"200\" class='center' alt=\"bonnet père noel\">\n",
        "<img src=\"https://cdn-icons-png.flaticon.com/512/477/477171.png\" width=\"200\" class='center' alt=\"image luntin\">"
      ],
      "metadata": {
        "id": "LPTYGwmAu3km"
      }
    },
    {
      "cell_type": "markdown",
      "source": [
        "## Détails du logiciel :\n",
        "Le logiciel du Père Noël est composé comme ceci :\n",
        "\n",
        "Tout d'abord, le père Noël accède au logiciel grâce à un mot de passe.\n",
        "\n",
        "Une fois authentifié, le Père Noël peut voir la liste des cadeaux dans une liste, il peut rajouter de nouveaux cadeaux, et même les faire correspondre à des enfants. De plus, le Père Noël accède aux noms et aux prénoms des lutins, peut en rajouter ou en supprimer.\n",
        "\n",
        "Le logiciel est fait principalement avec des fonctions et des variables, vous serez guidé au fur et à mesure des choses à réparer !"
      ],
      "metadata": {
        "id": "Y1YBq2rrwG78"
      }
    },
    {
      "cell_type": "markdown",
      "source": [
        "## L'activité :"
      ],
      "metadata": {
        "id": "LofWg-SM45AP"
      }
    },
    {
      "cell_type": "markdown",
      "source": [
        "### Partie 1 : Authentifcation "
      ],
      "metadata": {
        "id": "78JrhUy2yAyr"
      }
    },
    {
      "cell_type": "markdown",
      "source": [
        "Premier bug dans le logiciel, le Père Noël n'arrive plus à se connecter. Son mot de passe 25122021 ne fonctionne plus !"
      ],
      "metadata": {
        "id": "K8ZCvguoyHWc"
      }
    },
    {
      "cell_type": "code",
      "source": [
        "import time\n",
        "print('Démarrage du logiciel en cours, veuillez patientez 5 secondes')\n",
        "time.sleep(5)\n",
        "MDP=@kfqhzn273U2I#[#[|~#[]]]\n",
        "print('Bienvenue dans le logiciel du Père Noël, tapez votre mot de passe pour continuer')\n",
        "proposition = int(input(\"Mot de passe ? \"))\n",
        "if proposition == MDP:\n",
        "  print(\"Bonjour Père Noël, bienvenue sur votre logiciel !\")\n",
        "else:\n",
        "  print(\"Mot de passe incorrect, veuillez ré-essayer !\")"
      ],
      "metadata": {
        "id": "hhgwcMK7yGk1"
      },
      "execution_count": null,
      "outputs": []
    },
    {
      "cell_type": "markdown",
      "source": [
        "⚠️ Regarde les aides si tu en as vraiment besoin !! \n",
        "\n",
        "---\n",
        "\n",
        "<details>\n",
        "  <summary>Aides</summary>\n",
        "  1. L'importation de la bibliothèque \"time\" n'a rien à voir avec le problème \n",
        "\n",
        "  2. On sait que le mot de passe est inscrit en clair dans une variable, lorsque l'utilisateur tape son mot de passe, il est inscrit dans une variable proposition qui est ensuite comparé avec la variable contenant le mot de passe.\n",
        "\n",
        "</details>\n"
      ],
      "metadata": {
        "id": "ZbIKJPLfzaGf"
      }
    },
    {
      "cell_type": "markdown",
      "source": [
        "\n",
        "\n",
        "---\n",
        "\n"
      ],
      "metadata": {
        "id": "7k1gcvPq04tW"
      }
    },
    {
      "cell_type": "markdown",
      "source": [
        "\n",
        "\n",
        "---\n",
        "\n"
      ],
      "metadata": {
        "id": "KMNL4McZ05YT"
      }
    },
    {
      "cell_type": "markdown",
      "source": [
        "### Partie 2 : Répertoire des lutins\n",
        "Maintenant, que tu as réparé l'authentification, le Père Noël souhaiterait connaître le nom de tous ses lutins et pouvoir en rajouter s'il le souhaite. Le problème, c'est que la fonction pour rajouter des lutins ne marche plus. Il faut absolument la réparer !  \n",
        "Les parties du programme corrompu ont été remplacées par trois petits points \"...\""
      ],
      "metadata": {
        "id": "j8Hk05-C07O0"
      }
    },
    {
      "cell_type": "code",
      "source": [
        "nomDesLutins = ['Ruben', 'Michel', 'Pierre', 'Rodolph', 'Arthur', 'Josiane', 'Jules', 'Valentin']\n",
        "def actionLutin():\n",
        "  \"\"\"\n",
        "  Cette fonction permet d'utiliser la première partie du logciel à savoir\n",
        "  lister, ajouter ou supprimer des Lutins.\n",
        "  Elle ne prend pas d'argument. Elle appelle cependant d'autres fonctions\n",
        "  selon le choix de l'utilisateur\n",
        "  \"\"\"\n",
        "  print(\"Choix possible : voir les lutins (0), ajouter un lutin (1), supprimer un lutin (2)\")\n",
        "  choix = int(input(\"Que souhaitez vous faire (0, 1 ou 2) ? \"))\n",
        "  if choix == 0:\n",
        "    print(\"Vous avez choisi de voir les lutins : \")\n",
        "    print(nomDesLutins)\n",
        "  if choix == 1:\n",
        "    print(\"Vous avez choisi d'ajouter un lutin\")\n",
        "    nouveauLutin = str(input(\"Quel est le nom du nouveau lutin ? \"))\n",
        "    nomDesLutins.appd(...)\n",
        "    print(nomDesLutins)\n",
        "  if choix == 2:\n",
        "    print(\"Supprimer un lutin\")\n",
        "    supprLutin = str(input(\"Quel lutin souhaitez-vous supprimer ? \"))\n",
        "    if supprLutin in ...:\n",
        "      nomDesLutins.remove(...)\n",
        "      print(...)\n",
        "    else:\n",
        "      print(\"Veuillez vérifier le nom\")\n",
        "\n",
        "actionLutin()"
      ],
      "metadata": {
        "id": "PiysyT3N1VZs"
      },
      "execution_count": null,
      "outputs": []
    },
    {
      "cell_type": "markdown",
      "source": [
        "\n",
        "\n",
        "---\n",
        "\n"
      ],
      "metadata": {
        "id": "kUtbr9Le4xvl"
      }
    },
    {
      "cell_type": "markdown",
      "source": [
        "⚠️ Regarde les aides si tu en as vraiment besoin !! \n",
        "\n",
        "---\n",
        "\n",
        "<details>\n",
        "  <summary>Aides</summary>\n",
        "  1. Tu l'as surement remarqué, mais on travaille ici avec des tableaux \n",
        "\n",
        "  2. Si tu es toujours bloqué, va voir le notebook sur les listes, disponible sur l'application Capytale dans https://ent.iledefrance.fr\n",
        "\n",
        "</details>\n"
      ],
      "metadata": {
        "id": "ESC4kqFgM1UD"
      }
    },
    {
      "cell_type": "markdown",
      "source": [
        "\n",
        "\n",
        "---\n",
        "\n"
      ],
      "metadata": {
        "id": "SGe7JGpd4yWO"
      }
    },
    {
      "cell_type": "markdown",
      "source": [
        "### Partie 3 : Les cadeaux"
      ],
      "metadata": {
        "id": "hoBf8zo_4zNy"
      }
    },
    {
      "cell_type": "markdown",
      "source": [
        "Le logiciel est presque réparé, parfait ! Mais maintenant la partie la plus importante et la plus corrompu est la partie des cadeaux ! Cette fois, des parties du programme ont carrément disparu et n'ont pas été remplacées par des trois petits points \"...\". À toi de trouver la solution pour sauver Noël !"
      ],
      "metadata": {
        "id": "m1JvOUzO49a1"
      }
    },
    {
      "cell_type": "markdown",
      "source": [
        "Pour cette étape, on décomposera le code en plusieurs cellules avec des instructions différentes !\n",
        "\n",
        "\n",
        "---\n",
        "\n"
      ],
      "metadata": {
        "id": "vyJATWwH5-zv"
      }
    },
    {
      "cell_type": "code",
      "source": [
        "\"\"\"\n",
        "Initialisation de la liste avec les cadeaux et les enfants concerné. \n",
        "Afin de trouver quel cadeau correspond à quel enfant, il suffit de regarder l'index.\n",
        "Par exemple pour le cadeau 'Ordinateur', il a pour indice 0. Le prénom concerné est donc dans la deuxième liste qui à aussi l'indice 0\n",
        "\"\"\"\n",
        "cadeaux = [[\"Ordinateur\", \"Trotiennete\", \"vélo\", \"Jeu vidéo\", \"crampon\", \"Bose QC35\", \"iPhone\"],[\"Louis\", \"Zachary\", \"Ines\", \"Raphaël\", \"Chloé\", \"Octave\", \"Gérard\"]]"
      ],
      "metadata": {
        "id": "z5IGl_lGq3Za"
      },
      "execution_count": null,
      "outputs": []
    },
    {
      "cell_type": "markdown",
      "source": [
        "La première fonction est corrompu, une partie du code à disparue, il faut absolument la refaire pour que le programme fonctionne !"
      ],
      "metadata": {
        "id": "XcBgsBPCkBNp"
      }
    },
    {
      "cell_type": "code",
      "source": [
        "def cadeauADonner(listeDeCadeaux):\n",
        "  \"\"\" Une fonction qui prend la liste des cadeaux et renvoie le cadeau en fonction du prénom\n",
        "  \"\"\"\n",
        "  personne = str(input(\"Tapez le prénom d'un enfant pour savoir son cadeau \"))\n",
        "  if ...\n",
        "  else:\n",
        "    print(\"Prénom inconnu\")\n",
        "\n",
        "cadeauADonner(cadeaux)"
      ],
      "metadata": {
        "id": "111cPSpJz0M9"
      },
      "execution_count": null,
      "outputs": []
    },
    {
      "cell_type": "markdown",
      "source": [
        "La deuxième fonction permet d'ajouter un cadeau à la liste. Malheureusement, cette fonction aussi est cassé, mais il manque moins de code !"
      ],
      "metadata": {
        "id": "BMnH5oLLqI-7"
      }
    },
    {
      "cell_type": "code",
      "source": [
        "def rajouterCadeau(listeDesCadeaux, prenom, cadeau):\n",
        "  \"\"\" Une fonction qui prend la liste des cadeaux (List), le nom (str) et le cadeau (str) à rajouter en argument afin\n",
        "      rajouter un cadeau dans la liste deds cadeaux\n",
        "  \"\"\"\n",
        "  if prenom not in listeDesCadeaux[1]:\n",
        "    listeDesCadeaux[0].append(cadeau)\n",
        "    listeDesCadeaux[1].(prenom)\n",
        "    print(\"Le cadeau rajouté : \",...)\n",
        "    print(\"Le prénom rajouté : \", listeDesCadeaux[1][listeDesCadeaux[1].index(prenom)])\n",
        "    print(\"La nouvelle liste de cadeau : \", ...)\n",
        "    print(\"La nouvelle list des prénoms : \", ...)\n",
        "  else:\n",
        "    print(\"Erreur ! le cadeau existe déjà dans la base de donnée\")\n",
        "\n",
        "\n",
        "prenomARajouter = input(\"Quel est le prénom à rajouter ? \")\n",
        "cadeauARajouter = ...\n",
        "rajouterCadeau(cadeaux, prenomARajouter, cadeauARajouter)"
      ],
      "metadata": {
        "id": "8uL_nnGkkU0I"
      },
      "execution_count": null,
      "outputs": []
    },
    {
      "cell_type": "markdown",
      "source": [
        "La dernière fonction permet de supprimer des cadeaux et celle-ci à totalement disparue. Il faudrait que tu puisses la re-créer également"
      ],
      "metadata": {
        "id": "f_4SoZ7cqRa6"
      }
    },
    {
      "cell_type": "code",
      "source": [
        "def supprimerCadeau(listeDesCadeaux, prenom, cadeau):\n",
        "  \"\"\" Une fonction qui prend la liste des cadeaux (List), le nom (str) et le cadeau (str) à rajouter en argument afin\n",
        "      de supprimer un cadeau de la liste des cadeaux\n",
        "  \"\"\"\n",
        "  ...\n",
        "\n",
        "prenomAEnlever = input(\"Quel est le prénom à enlever\")\n",
        "cadeauAEnlever = input(\"Quel est le cadeau à enlever\")\n",
        "supprimerCadeau(...)"
      ],
      "metadata": {
        "id": "AmlhTlnMqaT5"
      },
      "execution_count": null,
      "outputs": []
    },
    {
      "cell_type": "markdown",
      "source": [
        "\n",
        "\n",
        "---\n",
        "\n",
        "\n",
        "\n",
        "---\n",
        "\n",
        "\n",
        "\n",
        "---\n",
        "\n"
      ],
      "metadata": {
        "id": "mCboRvuLrWqx"
      }
    },
    {
      "cell_type": "markdown",
      "source": [
        "## Bravo ! \n",
        "Si il n'y a aucune erreur, c'est que le logiciel fonctionne normalement. Bravo !  \n",
        "**Si tu souhaites avoir une correction de ton notebook, suis les instructions ci-dessous**  \n",
        "Afin d'exporter ton notebook, clique sur \"Fichier\" > \"Télécharger\" > \"Télécharger le ficher .ipynb\". Tu peux ensuite l'envoyer par mail à l'adresse hello@louisgallet.me ou sur le fil du forum sur l'ENT"
      ],
      "metadata": {
        "id": "KbEjMzrDrX4S"
      }
    }
  ]
}