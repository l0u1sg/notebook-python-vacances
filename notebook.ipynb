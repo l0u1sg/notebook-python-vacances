{
  "nbformat": 4,
  "nbformat_minor": 0,
  "metadata": {
    "colab": {
      "name": "Untitled0.ipynb",
      "provenance": [],
      "authorship_tag": "ABX9TyM7MUMbO4uQ04Xc1vJPW3qL",
      "include_colab_link": true
    },
    "kernelspec": {
      "name": "python3",
      "display_name": "Python 3"
    },
    "language_info": {
      "name": "python"
    }
  },
  "cells": [
    {
      "cell_type": "markdown",
      "metadata": {
        "id": "view-in-github",
        "colab_type": "text"
      },
      "source": [
        "<a href=\"https://colab.research.google.com/github/l0u1sg/notebook-python-vacances/blob/main/notebook.ipynb\" target=\"_parent\"><img src=\"https://colab.research.google.com/assets/colab-badge.svg\" alt=\"Open In Colab\"/></a>"
      ]
    },
    {
      "cell_type": "markdown",
      "source": [
        "# Salut !\n",
        "# Prêt à réviser les petites bases de Python ? Et bah c'est parti !!! "
      ],
      "metadata": {
        "id": "xOH6KZEHQYU9"
      }
    },
    {
      "cell_type": "markdown",
      "source": [
        "Dans ce notebook on va voir les choses suivantes :\n",
        "\n",
        "1.   Print\n",
        "2.   Boucles\n",
        "3.   Listes\n",
        "4.   Petit exercice\n",
        "\n",
        "\n",
        "\n"
      ],
      "metadata": {
        "id": "3yIildqBQnW1"
      }
    },
    {
      "cell_type": "markdown",
      "source": [
        "## 1. Les bases & le print"
      ],
      "metadata": {
        "id": "7VbLMcC0Q4gg"
      }
    },
    {
      "cell_type": "code",
      "source": [
        "# Il est possible d'afficher des choses dans la console de Python, pour ce faire, il faut utiliser la méthode print()...\n",
        "print(\"Bienvenue dans ce notebook\") # Affiche le texte \"bienvenue dans ce notebook\"\n"
      ],
      "metadata": {
        "colab": {
          "base_uri": "https://localhost:8080/"
        },
        "id": "G7BLSddzQ_SK",
        "outputId": "d37a3f00-46da-40de-9a86-2dbcde5a5e8c"
      },
      "execution_count": 1,
      "outputs": [
        {
          "output_type": "stream",
          "name": "stdout",
          "text": [
            "Bienvenue dans ce notebook\n"
          ]
        }
      ]
    },
    {
      "cell_type": "code",
      "source": [
        "# Mais on peut aller encore plus loin avec des variables \n",
        "intro = \"Coucou\" # On défini intro sur \"Coucou\"\n",
        "print(intro) # On va afficher le contenu de la variable intro"
      ],
      "metadata": {
        "colab": {
          "base_uri": "https://localhost:8080/"
        },
        "id": "N1aNICbORdxa",
        "outputId": "b5fd618f-f36e-4bfc-8faf-757af9785b5f"
      },
      "execution_count": 2,
      "outputs": [
        {
          "output_type": "stream",
          "name": "stdout",
          "text": [
            "Coucou\n"
          ]
        }
      ]
    },
    {
      "cell_type": "code",
      "source": [
        "# On peut aller encore, encore plus loin avec une petite interaction avec l'utilisateur\n",
        "prenom = input(\"Quel est ton prénom ? \") # On demande à l'utilisateur son prénom\n",
        "print(prenom) # On affiche le prénom de l'utilisateur"
      ],
      "metadata": {
        "colab": {
          "base_uri": "https://localhost:8080/"
        },
        "id": "OmT-0ooJRfMD",
        "outputId": "ec735d31-32c1-4c2c-a384-23ca9e97c72f"
      },
      "execution_count": 3,
      "outputs": [
        {
          "output_type": "stream",
          "name": "stdout",
          "text": [
            "Quel est ton prénom ? Louis\n",
            "Louis\n"
          ]
        }
      ]
    }
  ]
}